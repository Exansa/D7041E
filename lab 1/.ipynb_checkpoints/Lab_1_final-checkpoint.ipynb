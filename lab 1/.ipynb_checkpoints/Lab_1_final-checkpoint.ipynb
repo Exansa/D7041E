{
 "cells": [
  {
   "cell_type": "markdown",
   "id": "f4f90a4c",
   "metadata": {},
   "source": [
    "# Lab assigment 1.1"
   ]
  },
  {
   "cell_type": "code",
   "execution_count": 71,
   "id": "f0cdc3db",
   "metadata": {},
   "outputs": [],
   "source": [
    "import numpy as np\n",
    "import seaborn as sns\n",
    "import matplotlib.pyplot as plt"
   ]
  },
  {
   "cell_type": "code",
   "execution_count": 72,
   "id": "de983587",
   "metadata": {},
   "outputs": [
    {
     "name": "stdout",
     "output_type": "stream",
     "text": [
      "(20, 74, 50, 4)\n"
     ]
    }
   ],
   "source": [
    "folder = \"d7041e lab1 bilder/\"\n",
    "\n",
    "import os\n",
    "images = sorted(os.listdir(folder))\n",
    "\n",
    "from PIL import Image \n",
    "import numpy as np \n",
    "\n",
    "image_array = []\n",
    "for image in images:\n",
    "    im = Image.open(folder + image)\n",
    "    image_array.append(np.asarray(im)) #.transpose(1, 0, 2))\n",
    "\n",
    "image_array = np.array(image_array)\n",
    "images = image_array[:20]\n",
    "print(images.shape)"
   ]
  },
  {
   "cell_type": "code",
   "execution_count": 73,
   "id": "ab94a355",
   "metadata": {},
   "outputs": [
    {
     "name": "stdout",
     "output_type": "stream",
     "text": [
      "(20, 14800)\n"
     ]
    }
   ],
   "source": [
    "images = images.reshape(images.shape[0], images.shape[1]*images.shape[2]*images.shape[3])\n",
    "print (images.shape)"
   ]
  },
  {
   "cell_type": "code",
   "execution_count": 74,
   "id": "1b673024",
   "metadata": {},
   "outputs": [],
   "source": [
    "def plotSample(images):\n",
    "    plt.figure(figsize=(1.48, 1))\n",
    "    plt.imshow(images.reshape(74,50,4))\n",
    "    plt.show()\n",
    "    plt.close()"
   ]
  },
  {
   "cell_type": "code",
   "execution_count": 75,
   "id": "5b9e591b",
   "metadata": {},
   "outputs": [
    {
     "data": {
      "image/png": "[encoded data removed]",
      "text/plain": [
       "<Figure size 148x100 with 1 Axes>"
      ]
     },
     "metadata": {},
     "output_type": "display_data"
    }
   ],
   "source": [
    "plotSample(images[10,:])"
   ]
  },
  {
   "cell_type": "code",
   "execution_count": 76,
   "id": "f64d43a5",
   "metadata": {},
   "outputs": [
    {
     "name": "stdout",
     "output_type": "stream",
     "text": [
      "X.min() 0.0\n",
      "X.max() 1.0\n"
     ]
    }
   ],
   "source": [
    "images_norm = images/255\n",
    "print ('X.min()', images_norm.min())\n",
    "print ('X.max()', images_norm.max())"
   ]
  },
  {
   "cell_type": "code",
   "execution_count": 77,
   "id": "d703e42a",
   "metadata": {},
   "outputs": [
    {
     "data": {
      "text/plain": [
       "(14800,)"
      ]
     },
     "execution_count": 77,
     "metadata": {},
     "output_type": "execute_result"
    }
   ],
   "source": [
    "images_norm.mean(axis=0).shape"
   ]
  },
  {
   "cell_type": "code",
   "execution_count": 78,
   "id": "efac1b8f",
   "metadata": {},
   "outputs": [
    {
     "data": {
      "text/plain": [
       "array([1., 1., 1., ..., 1., 1., 1.])"
      ]
     },
     "execution_count": 78,
     "metadata": {},
     "output_type": "execute_result"
    }
   ],
   "source": [
    "images_norm.mean(axis=0)"
   ]
  },
  {
   "cell_type": "code",
   "execution_count": 79,
   "id": "a44f6b79",
   "metadata": {},
   "outputs": [],
   "source": [
    "images_norm = images_norm - images_norm.mean(axis=0)"
   ]
  },
  {
   "cell_type": "code",
   "execution_count": 82,
   "id": "c70157c7",
   "metadata": {},
   "outputs": [],
   "source": [
    "import numpy as np\n",
    "cov = np.cov(images_norm, rowvar=False)"
   ]
  },
  {
   "cell_type": "code",
   "execution_count": 83,
   "id": "a911cafc",
   "metadata": {},
   "outputs": [
    {
     "data": {
      "text/plain": [
       "(14800, 14800)"
      ]
     },
     "execution_count": 83,
     "metadata": {},
     "output_type": "execute_result"
    }
   ],
   "source": [
    "cov.shape"
   ]
  },
  {
   "cell_type": "code",
   "execution_count": 84,
   "id": "f24898fa",
   "metadata": {},
   "outputs": [],
   "source": [
    "U,S,V = np.linalg.svd(cov)"
   ]
  },
  {
   "cell_type": "code",
   "execution_count": 85,
   "id": "90dd5083",
   "metadata": {},
   "outputs": [
    {
     "name": "stdout",
     "output_type": "stream",
     "text": [
      "(14800, 14800) (14800,)\n"
     ]
    }
   ],
   "source": [
    "print (U.shape, S.shape)"
   ]
  },
  {
   "cell_type": "code",
   "execution_count": 86,
   "id": "21279681",
   "metadata": {},
   "outputs": [
    {
     "name": "stdout",
     "output_type": "stream",
     "text": [
      "[[3.65427963e+01 0.00000000e+00 0.00000000e+00 ... 0.00000000e+00\n",
      "  0.00000000e+00 0.00000000e+00]\n",
      " [0.00000000e+00 3.05220090e+01 0.00000000e+00 ... 0.00000000e+00\n",
      "  0.00000000e+00 0.00000000e+00]\n",
      " [0.00000000e+00 0.00000000e+00 2.66594804e+01 ... 0.00000000e+00\n",
      "  0.00000000e+00 0.00000000e+00]\n",
      " ...\n",
      " [0.00000000e+00 0.00000000e+00 0.00000000e+00 ... 1.92327561e-15\n",
      "  0.00000000e+00 0.00000000e+00]\n",
      " [0.00000000e+00 0.00000000e+00 0.00000000e+00 ... 0.00000000e+00\n",
      "  1.72201589e-15 0.00000000e+00]\n",
      " [0.00000000e+00 0.00000000e+00 0.00000000e+00 ... 0.00000000e+00\n",
      "  0.00000000e+00 7.67784238e-16]]\n",
      "\n",
      "shape: (14800, 14800)\n"
     ]
    }
   ],
   "source": [
    "print (np.diag(S))\n",
    "print ('\\nshape:', np.diag(S).shape)"
   ]
  },
  {
   "cell_type": "code",
   "execution_count": 87,
   "id": "3bdb56a6",
   "metadata": {},
   "outputs": [],
   "source": [
    "epsilon = 0.1\n",
    "images_ZCA = U.dot(np.diag(1.0/np.sqrt(S + epsilon))).dot(U.T).dot(images_norm.T).T"
   ]
  },
  {
   "cell_type": "code",
   "execution_count": 88,
   "id": "907197ee",
   "metadata": {},
   "outputs": [
    {
     "name": "stdout",
     "output_type": "stream",
     "text": [
      "min: 0.0\n",
      "max: 1.0\n"
     ]
    }
   ],
   "source": [
    "images_ZCA_rescaled = (images_ZCA - images_ZCA.min()) / (images_ZCA.max() - images_ZCA.min())\n",
    "print ('min:', images_ZCA_rescaled.min())\n",
    "print ('max:', images_ZCA_rescaled.max())"
   ]
  },
  {
   "cell_type": "code",
   "execution_count": 89,
   "id": "90d49347",
   "metadata": {},
   "outputs": [
    {
     "data": {
      "image/png": "[encoded data removed]",
      "text/plain": [
       "<Figure size 148x100 with 1 Axes>"
      ]
     },
     "metadata": {},
     "output_type": "display_data"
    },
    {
     "data": {
      "image/png": "[encoded data removed]",
      "text/plain": [
       "<Figure size 148x100 with 1 Axes>"
      ]
     },
     "metadata": {},
     "output_type": "display_data"
    }
   ],
   "source": [
    "plotSample(images[12, :])\n",
    "plotSample(images_ZCA_rescaled[12, :])"
   ]
  },
  {
   "cell_type": "markdown",
   "id": "c076e015",
   "metadata": {},
   "source": [
    "# Lab assigment 1.2"
   ]
  },
  {
   "cell_type": "code",
   "execution_count": 62,
   "id": "5c222e1d",
   "metadata": {},
   "outputs": [],
   "source": [
    "import numpy as np\n",
    "import seaborn as sns\n",
    "import matplotlib.pyplot as plt\n",
    "import tensorflow as tf\n",
    "from keras.datasets import mnist as mnist"
   ]
  },
  {
   "cell_type": "code",
   "execution_count": 28,
   "id": "680cd365",
   "metadata": {},
   "outputs": [],
   "source": [
    "def randomPermutation(array):\n",
    "    #return np.random.permutation(len(array))\n",
    "    return np.random.permutation(array)"
   ]
  },
  {
   "cell_type": "code",
   "execution_count": 33,
   "id": "7d7e64d9",
   "metadata": {},
   "outputs": [
    {
     "name": "stdout",
     "output_type": "stream",
     "text": [
      "(60000, 28, 28)\n",
      "(10000, 28, 28)\n"
     ]
    }
   ],
   "source": [
    "import tensorflow as tf #solution found https://stackoverflow.com/questions/40690203/how-can-i-import-the-mnist-dataset-that-has-been-manually-downloaded\n",
    "path = 'vecs.npy'\n",
    "(train_images, train_labels), (test_images, test_labels) = tf.keras.datasets.mnist.load_data(path)\n",
    "trainArray = (train_images, train_labels)\n",
    "\n",
    "train_dataset = tf.data.Dataset.from_tensor_slices((train_images, train_labels))\n",
    "test_dataset = tf.data.Dataset.from_tensor_slices((test_images, test_labels))\n",
    "\n",
    "print(train_images.shape)\n",
    "print(test_images.shape)"
   ]
  },
  {
   "cell_type": "code",
   "execution_count": 32,
   "id": "bc7b806e",
   "metadata": {
    "scrolled": true
   },
   "outputs": [
    {
     "name": "stdout",
     "output_type": "stream",
     "text": [
      "[6 3 7 ... 1 0 4]\n",
      "[[-0.0000000e+00 -0.0000000e+00 -0.0000000e+00 ... -0.0000000e+00\n",
      "  -0.0000000e+00 -0.0000000e+00]\n",
      " [-0.0000000e+00 -0.0000000e+00 -0.0000000e+00 ... -0.0000000e+00\n",
      "  -0.0000000e+00  7.8479576e+01]\n",
      " [-0.0000000e+00 -0.0000000e+00 -0.0000000e+00 ... -0.0000000e+00\n",
      "  -0.0000000e+00 -0.0000000e+00]\n",
      " ...\n",
      " [-0.0000000e+00 -0.0000000e+00 -0.0000000e+00 ... -0.0000000e+00\n",
      "  -0.0000000e+00 -0.0000000e+00]\n",
      " [-0.0000000e+00 -0.0000000e+00  4.5702930e+01 ... -0.0000000e+00\n",
      "  -0.0000000e+00 -0.0000000e+00]\n",
      " [-0.0000000e+00 -0.0000000e+00 -0.0000000e+00 ... -0.0000000e+00\n",
      "  -0.0000000e+00 -3.9236357e-44]]\n",
      "1258\n",
      "1258\n"
     ]
    }
   ],
   "source": [
    "file = np.load(\"datasets/vecs.npy\",allow_pickle=True)\n",
    "parts = [\"1_pos\"]\n",
    "\n",
    "embeddingArray = []\n",
    "labelArray = []\n",
    "for part in parts:\n",
    "    for embedding in file.item()[part]:\n",
    "        for label in file.item()[part][embedding]:\n",
    "            embeddingArray.append(embedding)\n",
    "            labelArray.append(label)\n",
    "            \n",
    "embeddingNpArray = np.array(embeddingArray)\n",
    "labelNpArray = np.array(labelArray)\n",
    "\n",
    "embeddingNpArray = randomPermutation(embeddingNpArray)\n",
    "labelNpArray = randomPermutation(labelNpArray)\n",
    "\n",
    "print(embeddingNpArray)\n",
    "print(labelNpArray)\n",
    "\n",
    "print(len(embeddingArray))\n",
    "print(len(labelArray))"
   ]
  },
  {
   "cell_type": "markdown",
   "id": "8ecae17c",
   "metadata": {},
   "source": [
    "# Lab assignment 2"
   ]
  },
  {
   "cell_type": "code",
   "execution_count": 12,
   "id": "eb9acc59",
   "metadata": {
    "scrolled": true
   },
   "outputs": [],
   "source": [
    "import numpy as np\n",
    "from matplotlib import pyplot as plt\n",
    "from keras.datasets import mnist"
   ]
  },
  {
   "cell_type": "code",
   "execution_count": 13,
   "id": "52b4485f",
   "metadata": {},
   "outputs": [],
   "source": [
    "(Xtr, Ltr), (X_test, L_test)=mnist.load_data()"
   ]
  },
  {
   "cell_type": "code",
   "execution_count": 14,
   "id": "fe85a109",
   "metadata": {},
   "outputs": [
    {
     "data": {
      "text/plain": [
       "(60000, 28, 28)"
      ]
     },
     "execution_count": 14,
     "metadata": {},
     "output_type": "execute_result"
    }
   ],
   "source": [
    "Xtr.shape"
   ]
  },
  {
   "cell_type": "code",
   "execution_count": 15,
   "id": "90f9abd6",
   "metadata": {},
   "outputs": [
    {
     "data": {
      "image/png": "[encoded data removed]",
      "text/plain": [
       "<Figure size 640x480 with 1 Axes>"
      ]
     },
     "metadata": {},
     "output_type": "display_data"
    }
   ],
   "source": [
    "Image=Xtr[0,:,:]\n",
    "Label=Ltr[0]\n",
    "\n",
    "\n",
    "plt.title('Label is {Label}'.format(Label=Label))\n",
    "plt.imshow(Image)\n",
    "\n",
    "plt.show()\n",
    "plt.close()"
   ]
  },
  {
   "cell_type": "code",
   "execution_count": 16,
   "id": "33396210",
   "metadata": {},
   "outputs": [
    {
     "data": {
      "image/png": "[encoded data removed]",
      "text/plain": [
       "<Figure size 1500x1500 with 2 Axes>"
      ]
     },
     "metadata": {},
     "output_type": "display_data"
    }
   ],
   "source": [
    "fig, ax=plt.subplots(nrows=1, ncols=2, figsize=(15,15))\n",
    "ax0=plt.subplot(2,2,1)\n",
    "ax1=plt.subplot(2,2,2)\n",
    "\n",
    "Image=Xtr[0,:,:]\n",
    "Label=Ltr[0]\n",
    "Image1=Xtr[1,:,:]\n",
    "Label1=Ltr[1]\n",
    "\n",
    "\n",
    "ax0.set_title('Label is {Label}'.format(Label=Label))\n",
    "ax0.imshow(Image)\n",
    "ax1.set_title('Label is {Label}'.format(Label=Label1))\n",
    "ax1.imshow(Image1)\n",
    "\n",
    "\n",
    "plt.show()\n",
    "plt.close()"
   ]
  },
  {
   "cell_type": "code",
   "execution_count": 17,
   "id": "6513ab51",
   "metadata": {},
   "outputs": [
    {
     "data": {
      "text/plain": [
       "784"
      ]
     },
     "execution_count": 17,
     "metadata": {},
     "output_type": "execute_result"
    }
   ],
   "source": [
    "28*28"
   ]
  },
  {
   "cell_type": "code",
   "execution_count": 18,
   "id": "c123148e",
   "metadata": {},
   "outputs": [
    {
     "data": {
      "text/plain": [
       "(500, 784)"
      ]
     },
     "execution_count": 18,
     "metadata": {},
     "output_type": "execute_result"
    }
   ],
   "source": [
    "#Traing phase\n",
    "num_sample=500\n",
    "Tr_set=Xtr[:num_sample,:,:]\n",
    "Ltr_set=Ltr[:num_sample]\n",
    "\n",
    "#Tr_set=Tr_set.reshape(num_sample,Tr_set.shape[1]*Tr_set.shape[2])\n",
    "\n",
    "Tr_set=Tr_set.reshape(num_sample,Tr_set.shape[1]*Tr_set.shape[2]).astype(int)\n",
    "Tr_set.shape"
   ]
  },
  {
   "cell_type": "code",
   "execution_count": 19,
   "id": "8b733f9d",
   "metadata": {},
   "outputs": [],
   "source": [
    "def predict(X):\n",
    "    num_test=X.shape[0]\n",
    "    Lpred=np.zeros(num_test, dtype=Ltr_set.dtype)\n",
    "    \n",
    "    for i in range(num_test):\n",
    "        distances=np.sum(np.abs(Tr_set-X[i,:]),axis=1)\n",
    "        #distances=np.sqrt(np.sum(np.square(Tr_set-X[i,:]), axis=1))\n",
    "        \n",
    "        min_index= np.argmin(distances)\n",
    "        Lpred[i]=Ltr_set[min_index]\n",
    "    return Lpred"
   ]
  },
  {
   "cell_type": "code",
   "execution_count": 20,
   "id": "24a1aa1b",
   "metadata": {},
   "outputs": [
    {
     "name": "stdout",
     "output_type": "stream",
     "text": [
      "Accuracy: 0.811\n"
     ]
    }
   ],
   "source": [
    "Test_images=X_test.reshape(X_test.shape[0],X_test.shape[1]* X_test.shape[2])\n",
    "Labels_predicted=predict(Test_images)\n",
    "\n",
    "print(\"Accuracy:\", np.mean(Labels_predicted==L_test))"
   ]
  },
  {
   "cell_type": "markdown",
   "id": "bfbaad3c",
   "metadata": {},
   "source": [
    "L1: 0.2649 in accuracy\n",
    "L2: 0.19 in accuracy\n",
    "Bug: decomment Tr_set=Tr_set.reshape(num_sample,Tr_set.shape[1]*Tr_set.shape[2]).astype() and add int in astype which makes sure that it is handled like an int.\n",
    "L1:0.811\n",
    "L2:0.8294"
   ]
  },
  {
   "cell_type": "code",
   "execution_count": 21,
   "id": "f921b5c3",
   "metadata": {},
   "outputs": [],
   "source": [
    "from statistics import mode\n",
    "def predictK(X,k):\n",
    "    num_test=X.shape[0]\n",
    "    Lpred=np.zeros(num_test, dtype=Ltr_set.dtype)\n",
    "    \n",
    "    for i in range(num_test):\n",
    "        #distances=np.sum(np.abs(Tr_set-X[i,:]),axis=1)\n",
    "        distances=np.sqrt(np.sum(np.square(Tr_set-X[i,:]), axis=1))\n",
    "        \n",
    "        min_indexes= np.argsort(distances)[:k]\n",
    "        Lpred[i]=mode(Ltr_set[min_indexes])\n",
    "    return Lpred"
   ]
  },
  {
   "cell_type": "code",
   "execution_count": 22,
   "id": "aca969c4",
   "metadata": {},
   "outputs": [
    {
     "name": "stdout",
     "output_type": "stream",
     "text": [
      "Accuracy: 0.7967\n"
     ]
    }
   ],
   "source": [
    "Test_images=X_test.reshape(X_test.shape[0],X_test.shape[1]* X_test.shape[2])\n",
    "Labels_predictedK=predictK(Test_images, 8)\n",
    "\n",
    "print(\"Accuracy:\", np.mean(Labels_predictedK==L_test))"
   ]
  },
  {
   "cell_type": "markdown",
   "id": "6543a44e",
   "metadata": {},
   "source": [
    "# Lab assignment 2.2"
   ]
  },
  {
   "cell_type": "code",
   "execution_count": 32,
   "id": "8ad0adeb",
   "metadata": {},
   "outputs": [],
   "source": [
    "def predictCross(x, train, label, k):\n",
    "    num = x.shape[0]\n",
    "    Lpred = np.zeros(num, dtype=Ltr_set.dtype)\n",
    "    for i in range(num):\n",
    "        distance = np.sqrt(np.sum(np.square(Ytr_set-X[i,:]),axis=1))\n",
    "        \n",
    "        nearest_k = np.argsort(distance)[:k]\n",
    "        \n",
    "        Lpred[i]=mode(label[nearest_k])\n",
    "    return Lpred"
   ]
  },
  {
   "cell_type": "code",
   "execution_count": 34,
   "id": "95b0c9be",
   "metadata": {},
   "outputs": [],
   "source": [
    "def unison_shuffled_copies(a, b):\n",
    "    assert len(a) == len(b)\n",
    "    p = np.random.permutation(len(a))\n",
    "    return a[p], b[p]"
   ]
  },
  {
   "cell_type": "code",
   "execution_count": 36,
   "id": "85102335",
   "metadata": {},
   "outputs": [],
   "source": [
    "def random():\n",
    "    sample=500\n",
    "    random_train, random_label = unison_shuffled_copies(Xtr,Ltr)\n",
    "    specific_train_random=random_train_data[:num_sample,:,:]\n",
    "    specific_label_random=random_label_data[:num_sample]\n",
    "\n",
    "    specific_train_random=Tr_set_random.reshape(sample,specific_train_random.shape[1]*specific_train_random.shape[2]).astype(int)\n",
    "    specific_train_random.shape\n",
    "    return Tr_set_random, Ltr_set_random"
   ]
  },
  {
   "cell_type": "code",
   "execution_count": 58,
   "id": "e7d6e757",
   "metadata": {},
   "outputs": [],
   "source": [
    "def crossValidation(train, label, folds, m):\n",
    "    kfolds = KFold(n_splits=folds)\n",
    "    accuracy = []\n",
    "    k_accuracy = []\n",
    "    \n",
    "    for k in range(1, m):\n",
    "        for t, validation in kfolds.split(train):\n",
    "            specific_train = train[t]\n",
    "            specific_val = train[validation]\n",
    "            \n",
    "            specific_label = label[t]\n",
    "            specific_val_label = label[validation]\n",
    "\n",
    "            label_predict = predictCrossKNN(specific_val, specific_train, specific_label, k)\n",
    "            accuracy.append(np.mean(label_predict==specific_val_label))\n",
    "        \n",
    "        accuracy_mean = np.mean(accuracy)\n",
    "        k_accuracy.append(accuracy_mean)\n",
    "    return (k_accuracy)\n",
    "        "
   ]
  },
  {
   "cell_type": "code",
   "execution_count": 59,
   "id": "15f8facb",
   "metadata": {},
   "outputs": [
    {
     "name": "stdout",
     "output_type": "stream",
     "text": [
      "[1, 5, 2, 4, 3, 1, 1, 1, 1, 1, 1, 3, 6, 3, 3, 6, 4, 4, 1]\n",
      "The accuracy of the best k value for 3 folds is  0.8294\n"
     ]
    }
   ],
   "source": [
    "k_3fold_value = []\n",
    "fold = 3\n",
    "for i in range(1,20):  \n",
    "    train,label = randomData()\n",
    "    k_accuracy=crossValidation(train,label,fold, 20)\n",
    "    k_3fold_value.append(np.argmax(k_accuracy)+1)\n",
    "\n",
    "print(k_3fold_value)\n",
    "\n",
    "value = Counter(k_3fold_value)\n",
    "value.most_common(1)[0][0]\n",
    "\n",
    "acc = []\n",
    "acc_value = predictK(Test_images, value.most_common(1)[0][0])\n",
    "acc.append(np.mean(acc_value==L_test))\n",
    "print('The accuracy of the best k value for 3 folds is ', acc[0])"
   ]
  },
  {
   "cell_type": "code",
   "execution_count": 60,
   "id": "32a44338",
   "metadata": {},
   "outputs": [
    {
     "name": "stdout",
     "output_type": "stream",
     "text": [
      "[4, 1, 1, 4, 4, 1, 1, 4, 3, 4, 4, 1, 2, 1, 1, 1, 4, 4, 1]\n",
      "The accuracy of the best k value for 5 folds is  0.8294\n"
     ]
    }
   ],
   "source": [
    "k_5fold_value = []\n",
    "fold = 5\n",
    "for i in range(1,20):  \n",
    "    train,label = randomData()\n",
    "    k_accuracy=crossValidation(train,label,fold, 20)\n",
    "    k_5fold_value.append(np.argmax(k_accuracy)+1)\n",
    "\n",
    "print(k_5fold_value)\n",
    "\n",
    "value = Counter(k_5fold_value)\n",
    "value.most_common(1)[0][0]\n",
    "\n",
    "acc = []\n",
    "acc_value = predictK(Test_images, value.most_common(1)[0][0])\n",
    "acc.append(np.mean(acc_value==L_test))\n",
    "print('The accuracy of the best k value for 5 folds is ', acc[0])"
   ]
  },
  {
   "cell_type": "code",
   "execution_count": 61,
   "id": "77283966",
   "metadata": {},
   "outputs": [
    {
     "name": "stdout",
     "output_type": "stream",
     "text": [
      "[5, 4, 4, 2, 3, 1, 7, 1, 3, 8, 3, 3, 1, 3, 1, 1, 1, 1, 1]\n",
      "The accuracy of the best k value for 10 folds is  0.8294\n"
     ]
    }
   ],
   "source": [
    "k_10fold_value = []\n",
    "fold = 10\n",
    "for i in range(1,20):  \n",
    "    train,label = randomData()\n",
    "    k_accuracy=crossValidation(train,label,fold, 20)\n",
    "    k_10fold_value.append(np.argmax(k_accuracy)+1)\n",
    "\n",
    "print(k_10fold_value)\n",
    "\n",
    "value = Counter(k_10fold_value)\n",
    "value.most_common(1)[0][0]\n",
    "\n",
    "acc = []\n",
    "acc_value = predictK(Test_images, value.most_common(1)[0][0])\n",
    "acc.append(np.mean(acc_value==L_test))\n",
    "print('The accuracy of the best k value for 10 folds is ', acc[0])"
   ]
  },
  {
   "cell_type": "markdown",
   "id": "93f82d64",
   "metadata": {},
   "source": [
    "# Lab assigment 3.1-2"
   ]
  },
  {
   "cell_type": "code",
   "execution_count": 30,
   "id": "406f7c86",
   "metadata": {
    "scrolled": true
   },
   "outputs": [],
   "source": [
    "from sklearn import svm, datasets\n",
    "from sklearn.svm import SVC\n",
    "import numpy as np\n",
    "from sklearn import metrics\n",
    "from sklearn.metrics import f1_score\n",
    "import matplotlib.pyplot as plt\n",
    "from sklearn.model_selection import train_test_split\n",
    "from sklearn.datasets import load_iris\n",
    "#import tensorflow as tf"
   ]
  },
  {
   "cell_type": "code",
   "execution_count": 31,
   "id": "91e50c9e",
   "metadata": {},
   "outputs": [
    {
     "name": "stdout",
     "output_type": "stream",
     "text": [
      "(120, 4)\n",
      "(30, 4)\n"
     ]
    }
   ],
   "source": [
    "iris = load_iris()\n",
    "x, y = iris.data, iris.target\n",
    "x_train,x_test,y_train,y_test=train_test_split(x,y,test_size=0.2,random_state=123)\n",
    "\n",
    "#train_dataset = tf.data.Dataset.from_tensor_slices((x_train, x_train))\n",
    "#test_dataset = tf.data.Dataset.from_tensor_slices((test_images, test_labels))\n",
    "\n",
    "print(x_train.shape)\n",
    "print(x_test.shape)"
   ]
  },
  {
   "cell_type": "code",
   "execution_count": 32,
   "id": "f35876c3",
   "metadata": {},
   "outputs": [],
   "source": [
    "ovrL = SVC(kernel='linear', decision_function_shape='ovr').fit(x_train,y_train)\n",
    "ovrP = SVC(kernel='poly', decision_function_shape='ovr').fit(x_train,y_train)\n",
    "ovrR = SVC(kernel='rbf', decision_function_shape='ovr').fit(x_train,y_train)\n",
    "ovrS = SVC(kernel='sigmoid', decision_function_shape='ovr').fit(x_train,y_train)"
   ]
  },
  {
   "cell_type": "code",
   "execution_count": 33,
   "id": "2478911a",
   "metadata": {},
   "outputs": [],
   "source": [
    "ovoL = SVC(kernel='linear', decision_function_shape='ovo').fit(x_train,y_train)\n",
    "ovoP = SVC(kernel='poly', decision_function_shape='ovo').fit(x_train,y_train)\n",
    "ovoR = SVC(kernel='rbf', decision_function_shape='ovo').fit(x_train,y_train)\n",
    "ovoS = SVC(kernel='sigmoid', decision_function_shape='ovo').fit(x_train,y_train)"
   ]
  },
  {
   "cell_type": "code",
   "execution_count": 39,
   "id": "62616089",
   "metadata": {},
   "outputs": [
    {
     "name": "stdout",
     "output_type": "stream",
     "text": [
      "ovrL\n",
      "F1 score: 0.9658761528326745\n",
      "[[13  0  0]\n",
      " [ 0  5  1]\n",
      " [ 0  0 11]]\n",
      "ovrP\n",
      "F1 score: 0.9658761528326745\n",
      "[[13  0  0]\n",
      " [ 0  5  1]\n",
      " [ 0  0 11]]\n",
      "ovrR\n",
      "F1 score: 0.9671550671550672\n",
      "[[13  0  0]\n",
      " [ 0  6  0]\n",
      " [ 0  1 10]]\n",
      "ovrS\n",
      "F1 score: 0.06666666666666667\n",
      "[[ 0 13  0]\n",
      " [ 0  6  0]\n",
      " [ 0 11  0]]\n",
      "ovoL\n",
      "F1 score: 0.9658761528326745\n",
      "[[13  0  0]\n",
      " [ 0  5  1]\n",
      " [ 0  0 11]]\n",
      "ovoP\n",
      "F1 score: 0.9658761528326745\n",
      "[[13  0  0]\n",
      " [ 0  5  1]\n",
      " [ 0  0 11]]\n",
      "ovoR\n",
      "F1 score: 0.9671550671550672\n",
      "[[13  0  0]\n",
      " [ 0  6  0]\n",
      " [ 0  1 10]]\n",
      "ovoS\n",
      "F1 score: 0.06666666666666667\n",
      "[[ 0 13  0]\n",
      " [ 0  6  0]\n",
      " [ 0 11  0]]\n"
     ]
    }
   ],
   "source": [
    "labels = [\"ovrL\", \"ovrP\",\"ovrR\", \"ovrS\",\"ovoL\", \"ovoP\",\"ovoR\", \"ovoS\"]\n",
    "for i in labels:\n",
    "    if(i==\"ovrL\"):#could be a switch but i am lazy\n",
    "        clf = ovrL\n",
    "    elif(i==\"ovrP\"):\n",
    "        clf = ovrP\n",
    "    elif(i==\"ovrR\"):\n",
    "        clf = ovrR\n",
    "    elif(i==\"ovrS\"):\n",
    "        clf = ovrS\n",
    "    elif(i==\"ovoL\"):\n",
    "        clf = ovoL\n",
    "    elif(i==\"ovoP\"):\n",
    "        clf = ovoP\n",
    "    elif(i==\"ovoR\"):\n",
    "        clf = ovoR\n",
    "    elif(i==\"ovoS\"):\n",
    "        clf = ovoS\n",
    "        \n",
    "    \n",
    "    predicted = clf.predict(x_test)\n",
    "    f1 = f1_score(y_test,predicted, average='weighted')\n",
    "    confusion_matrix = metrics.confusion_matrix(y_test, predicted)\n",
    "    #cm_display = metrics.ConfusionMatrixDisplay(confusion_matrix = confusion_matrix, display_labels = [False, True])\n",
    "    \n",
    "    \n",
    "    print(i)\n",
    "    print(\"F1 score:\", f1)\n",
    "    print(confusion_matrix)\n",
    "\n",
    "    #cm_display.plot()\n",
    "    #plt.show()"
   ]
  },
  {
   "cell_type": "markdown",
   "id": "e738485e",
   "metadata": {},
   "source": [
    "The best kernel seems to be by a slim margin RBF and the f1 score does not change with ovo and ovr"
   ]
  },
  {
   "cell_type": "markdown",
   "id": "8eefbfc7",
   "metadata": {},
   "source": [
    "# Lab assignment 3.3-4"
   ]
  },
  {
   "cell_type": "code",
   "execution_count": 67,
   "id": "957a78aa",
   "metadata": {},
   "outputs": [
    {
     "data": {
      "image/png": "[encoded data removed]",
      "text/plain": [
       "<Figure size 400x300 with 1 Axes>"
      ]
     },
     "metadata": {},
     "output_type": "display_data"
    }
   ],
   "source": [
    "clf = ovrL\n",
    "w = clf.coef_[0]\n",
    "\n",
    "a = -w[1] / w[2]\n",
    "xx = np.linspace(0, 5)\n",
    "yy = a * xx - (clf.intercept_[0]) / w[2]\n",
    "margin = 1 / np.sqrt(np.sum(ovrL.coef_ ** 2))\n",
    "yy_down = yy - np.sqrt(1 + a ** 2) * margin\n",
    "yy_up = yy + np.sqrt(1 + a ** 2) * margin\n",
    "\n",
    "plt.figure(1, figsize=(4, 3))\n",
    "plt.clf()\n",
    "plt.plot(xx, yy, \"k-\")\n",
    "plt.plot(xx, yy_down, \"k-\")\n",
    "plt.plot(xx, yy_up, \"k-\")\n",
    "\n",
    "plt.scatter(clf.support_vectors_[:, 1], clf.support_vectors_[:, 2], s=40,\n",
    " facecolors=\"none\", zorder=10, edgecolors=\"k\")\n",
    "plt.scatter(x_train[:, 1], x_train[:, 2], c=y_train, zorder=10, cmap=plt.cm.Paired,\n",
    " edgecolors=\"k\")\n",
    "plt.xlabel(\"x1\")\n",
    "plt.ylabel(\"x2\")\n",
    "plt.show()"
   ]
  },
  {
   "cell_type": "code",
   "execution_count": 68,
   "id": "2e25b475",
   "metadata": {},
   "outputs": [
    {
     "data": {
      "image/png": "[encoded data removed]",
      "text/plain": [
       "<Figure size 400x300 with 1 Axes>"
      ]
     },
     "metadata": {},
     "output_type": "display_data"
    }
   ],
   "source": [
    "clf = ovrL\n",
    "w = clf.coef_[0]\n",
    "\n",
    "a = -w[2] / w[3]\n",
    "xx = np.linspace(0, 5)\n",
    "yy = a * xx - (clf.intercept_[0]) / w[3]\n",
    "margin = 1 / np.sqrt(np.sum(ovrL.coef_ ** 2))\n",
    "yy_down = yy - np.sqrt(1 + a ** 2) * margin\n",
    "yy_up = yy + np.sqrt(1 + a ** 2) * margin\n",
    "\n",
    "plt.figure(1, figsize=(4, 3))\n",
    "plt.clf()\n",
    "plt.plot(xx, yy, \"k-\")\n",
    "plt.plot(xx, yy_down, \"k-\")\n",
    "plt.plot(xx, yy_up, \"k-\")\n",
    "\n",
    "plt.scatter(clf.support_vectors_[:, 2], clf.support_vectors_[:, 3], s=20,\n",
    " facecolors=\"none\", zorder=10, edgecolors=\"k\")\n",
    "plt.scatter(x_train[:, 2], x_train[:, 3], c=y_train, zorder=10, cmap=plt.cm.Paired,\n",
    " edgecolors=\"k\")\n",
    "plt.xlabel(\"x1\")\n",
    "plt.ylabel(\"x2\")\n",
    "plt.show()"
   ]
  }
 ],
 "metadata": {
  "kernelspec": {
   "display_name": "Python 3 (ipykernel)",
   "language": "python",
   "name": "python3"
  },
  "language_info": {
   "codemirror_mode": {
    "name": "ipython",
    "version": 3
   },
   "file_extension": ".py",
   "mimetype": "text/x-python",
   "name": "python",
   "nbconvert_exporter": "python",
   "pygments_lexer": "ipython3",
   "version": "3.9.13"
  }
 },
 "nbformat": 4,
 "nbformat_minor": 5
}
