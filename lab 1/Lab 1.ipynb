{
 "cells": [
  {
   "cell_type": "markdown",
   "id": "a94d79ff",
   "metadata": {},
   "source": [
    "Lab assignment 1.1"
   ]
  },
  {
   "cell_type": "code",
   "execution_count": 6,
   "id": "692c2fd2",
   "metadata": {},
   "outputs": [],
   "source": [
    "import numpy as np\n",
    "import seaborn as sns\n",
    "import matplotlib.pyplot as plt"
   ]
  },
  {
   "cell_type": "code",
   "execution_count": 7,
   "id": "b42484b5",
   "metadata": {},
   "outputs": [
    {
     "name": "stdout",
     "output_type": "stream",
     "text": [
      "(10, 150, 150, 3)\n"
     ]
    }
   ],
   "source": [
    "folder = \"d7041e lab1 bilder/\"\n",
    "\n",
    "import os\n",
    "images = sorted(os.listdir(folder))\n",
    "\n",
    "from PIL import Image \n",
    "import numpy as np \n",
    "\n",
    "image_array = []\n",
    "for image in images:\n",
    "    im = Image.open(folder + image)\n",
    "    image_array.append(np.asarray(im)) #.transpose(1, 0, 2))\n",
    "\n",
    "image_array = np.array(image_array)\n",
    "images = image_array[:10]\n",
    "print(images.shape)"
   ]
  },
  {
   "cell_type": "code",
   "execution_count": 8,
   "id": "3cbfa849",
   "metadata": {},
   "outputs": [
    {
     "name": "stdout",
     "output_type": "stream",
     "text": [
      "(10, 67500)\n"
     ]
    }
   ],
   "source": [
    "images = images.reshape(images.shape[0], images.shape[1]*images.shape[2]*images.shape[3])\n",
    "print (images.shape)"
   ]
  },
  {
   "cell_type": "code",
   "execution_count": 9,
   "id": "5ce2890e",
   "metadata": {},
   "outputs": [],
   "source": [
    "def plotSample(images):\n",
    "    plt.figure(figsize=(5, 5))\n",
    "    plt.imshow(images.reshape(150,150,3))\n",
    "    plt.show()\n",
    "    plt.close()"
   ]
  },
  {
   "cell_type": "code",
   "execution_count": 10,
   "id": "73817385",
   "metadata": {},
   "outputs": [
    {
     "data": {
      "image/png": "[encoded data removed]",
      "text/plain": [
       "<Figure size 500x500 with 1 Axes>"
      ]
     },
     "metadata": {},
     "output_type": "display_data"
    }
   ],
   "source": [
    "plotSample(images[5,:])"
   ]
  },
  {
   "cell_type": "markdown",
   "id": "43e020d8",
   "metadata": {},
   "source": [
    "LAB assignment 1.2"
   ]
  },
  {
   "cell_type": "code",
   "execution_count": 11,
   "id": "eaa3f75f",
   "metadata": {},
   "outputs": [],
   "source": [
    "import numpy as np\n",
    "import seaborn as sns\n",
    "import matplotlib.pyplot as plt"
   ]
  },
  {
   "cell_type": "code",
   "execution_count": 1,
   "id": "e012d881",
   "metadata": {},
   "outputs": [],
   "source": [
    "def randomPermutation(positionArr, digitArr):\n",
    "    np.random.permutation(positionArr)\n",
    "    np.random.permutation(digitArr)"
   ]
  },
  {
   "cell_type": "code",
   "execution_count": null,
   "id": "9822d728",
   "metadata": {},
   "outputs": [],
   "source": [
    "file = np.load()\n",
    "\n",
    "positionArray = []\n",
    "digitArray = []\n",
    "\n",
    "for position in file.item():\n",
    "    for digit in file.item():\n",
    "        digitArray.append(digit)\n",
    "        positionArray.append(position)\n",
    "\n",
    "        \n",
    "        "
   ]
  }
 ],
 "metadata": {
  "kernelspec": {
   "display_name": "Python 3 (ipykernel)",
   "language": "python",
   "name": "python3"
  },
  "language_info": {
   "codemirror_mode": {
    "name": "ipython",
    "version": 3
   },
   "file_extension": ".py",
   "mimetype": "text/x-python",
   "name": "python",
   "nbconvert_exporter": "python",
   "pygments_lexer": "ipython3",
   "version": "3.10.6"
  }
 },
 "nbformat": 4,
 "nbformat_minor": 5
}
